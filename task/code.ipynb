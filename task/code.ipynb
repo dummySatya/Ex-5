{
 "cells": [
  {
   "cell_type": "code",
   "execution_count": 26,
   "metadata": {},
   "outputs": [],
   "source": [
    "import torch\n",
    "import torch.nn as nn\n",
    "from torchvision import datasets, transforms\n",
    "from torch.utils.data import DataLoader\n",
    "from torch.optim import SGD"
   ]
  },
  {
   "cell_type": "code",
   "execution_count": 27,
   "metadata": {},
   "outputs": [],
   "source": [
    "transforms = transforms.Compose([\n",
    "    transforms.ToTensor(),\n",
    "    transforms.Lambda(lambda x: x.view(-1)) # flattens the data\n",
    "])"
   ]
  },
  {
   "cell_type": "code",
   "execution_count": 28,
   "metadata": {},
   "outputs": [],
   "source": [
    "batch_size = 64\n",
    "\n",
    "trainset = datasets.MNIST(root='./data2', train=True,\n",
    "                                        download=True, transform=transforms)\n",
    "trainloader = DataLoader(trainset, batch_size=batch_size,\n",
    "                                          shuffle=True, num_workers=2)\n",
    "\n",
    "testset = datasets.MNIST(root='./data2', train=False,\n",
    "                                       download=True, transform=transforms)\n",
    "testloader = DataLoader(testset, batch_size=batch_size,\n",
    "                                         shuffle=False, num_workers=2)"
   ]
  },
  {
   "cell_type": "code",
   "execution_count": 36,
   "metadata": {},
   "outputs": [
    {
     "data": {
      "text/plain": [
       "60032"
      ]
     },
     "execution_count": 36,
     "metadata": {},
     "output_type": "execute_result"
    }
   ],
   "source": [
    "# No. of samples in trainset\n",
    "len(trainloader) * batch_size"
   ]
  },
  {
   "cell_type": "code",
   "execution_count": 37,
   "metadata": {},
   "outputs": [
    {
     "data": {
      "text/plain": [
       "10048"
      ]
     },
     "execution_count": 37,
     "metadata": {},
     "output_type": "execute_result"
    }
   ],
   "source": [
    "# No. of samples in testset\n",
    "len(testloader) * batch_size"
   ]
  },
  {
   "cell_type": "code",
   "execution_count": 29,
   "metadata": {},
   "outputs": [],
   "source": [
    "class LinearRegression(nn.Module):\n",
    "    def __init__(self, x_dim, y_dim):\n",
    "        super(LinearRegression,self).__init__()\n",
    "        self.linear = nn.Linear(x_dim,y_dim)\n",
    "    \n",
    "    def forward(self,X):\n",
    "        return self.linear(X)"
   ]
  },
  {
   "cell_type": "code",
   "execution_count": 30,
   "metadata": {},
   "outputs": [],
   "source": [
    "x_dim = trainset[0][0].shape[0]\n",
    "y_dim = 1\n",
    "model = LinearRegression(x_dim,y_dim)\n",
    "criterion = nn.MSELoss()\n",
    "epochs = 100\n",
    "lr = 0.01\n",
    "optimizer = SGD(model.parameters(),lr=lr)\n",
    "losses = []"
   ]
  },
  {
   "cell_type": "code",
   "execution_count": 31,
   "metadata": {},
   "outputs": [
    {
     "name": "stdout",
     "output_type": "stream",
     "text": [
      "Epoch 1/100, Loss: 3.9178360982744422\n",
      "Epoch 2/100, Loss: 3.419492652421313\n",
      "Epoch 3/100, Loss: 3.363532566185445\n",
      "Epoch 4/100, Loss: 3.3418633364665227\n",
      "Epoch 5/100, Loss: 3.3226892150033005\n",
      "Epoch 6/100, Loss: 3.3088090112214403\n",
      "Epoch 7/100, Loss: 3.306716131376051\n",
      "Epoch 8/100, Loss: 3.3013942512367835\n",
      "Epoch 9/100, Loss: 3.3026482314189107\n",
      "Epoch 10/100, Loss: 3.3005413879463665\n",
      "Epoch 11/100, Loss: 3.2953517832227353\n",
      "Epoch 12/100, Loss: 3.2951755490638552\n",
      "Epoch 13/100, Loss: 3.2903233127299147\n",
      "Epoch 14/100, Loss: 3.296602022927453\n",
      "Epoch 15/100, Loss: 3.288937729558965\n",
      "Epoch 16/100, Loss: 3.2911199191485894\n",
      "Epoch 17/100, Loss: 3.2924367457564707\n",
      "Epoch 18/100, Loss: 3.2858713161208226\n",
      "Epoch 19/100, Loss: 3.2842532398858304\n",
      "Epoch 20/100, Loss: 3.2891080671790314\n",
      "Epoch 21/100, Loss: 3.2862608295513875\n",
      "Epoch 22/100, Loss: 3.2829277293005985\n",
      "Epoch 23/100, Loss: 3.2877606644050905\n",
      "Epoch 24/100, Loss: 3.2821920477251\n",
      "Epoch 25/100, Loss: 3.282491192761769\n",
      "Epoch 26/100, Loss: 3.2894695397379046\n",
      "Epoch 27/100, Loss: 3.28457685841172\n",
      "Epoch 28/100, Loss: 3.2856738478390137\n",
      "Epoch 29/100, Loss: 3.282893309588117\n",
      "Epoch 30/100, Loss: 3.278904931631678\n",
      "Epoch 31/100, Loss: 3.285250940683808\n",
      "Epoch 32/100, Loss: 3.289509033851786\n",
      "Epoch 33/100, Loss: 3.2868074993334853\n",
      "Epoch 34/100, Loss: 3.2873596707895114\n",
      "Epoch 35/100, Loss: 3.279580988990727\n",
      "Epoch 36/100, Loss: 3.277594657340792\n",
      "Epoch 37/100, Loss: 3.2798696831345304\n",
      "Epoch 38/100, Loss: 3.2827854085324417\n",
      "Epoch 39/100, Loss: 3.2833941205223995\n",
      "Epoch 40/100, Loss: 3.2877087202916013\n",
      "Epoch 41/100, Loss: 3.2849066511654397\n",
      "Epoch 42/100, Loss: 3.2807228288162493\n",
      "Epoch 43/100, Loss: 3.2823122495781383\n",
      "Epoch 44/100, Loss: 3.2789314532839158\n",
      "Epoch 45/100, Loss: 3.2813109338664805\n",
      "Epoch 46/100, Loss: 3.2853713021603728\n",
      "Epoch 47/100, Loss: 3.2801847438822422\n",
      "Epoch 48/100, Loss: 3.2784701348113607\n",
      "Epoch 49/100, Loss: 3.2815961373894456\n",
      "Epoch 50/100, Loss: 3.2820128470595713\n",
      "Epoch 51/100, Loss: 3.2779262349295464\n",
      "Epoch 52/100, Loss: 3.2842366657277413\n",
      "Epoch 53/100, Loss: 3.2791210684949146\n",
      "Epoch 54/100, Loss: 3.2809041118316813\n",
      "Epoch 55/100, Loss: 3.278527316126996\n",
      "Epoch 56/100, Loss: 3.2763328117602417\n",
      "Epoch 57/100, Loss: 3.284191234279543\n",
      "Epoch 58/100, Loss: 3.2866089328774004\n",
      "Epoch 59/100, Loss: 3.2820679802121893\n",
      "Epoch 60/100, Loss: 3.2805580111708976\n",
      "Epoch 61/100, Loss: 3.285141272204263\n",
      "Epoch 62/100, Loss: 3.2863623210107846\n",
      "Epoch 63/100, Loss: 3.2780324091026776\n",
      "Epoch 64/100, Loss: 3.2785466192627766\n",
      "Epoch 65/100, Loss: 3.2800176008932116\n",
      "Epoch 66/100, Loss: 3.2818510642946404\n",
      "Epoch 67/100, Loss: 3.27946426060154\n",
      "Epoch 68/100, Loss: 3.27740720848539\n",
      "Epoch 69/100, Loss: 3.275953073872686\n",
      "Epoch 70/100, Loss: 3.2801737475242696\n",
      "Epoch 71/100, Loss: 3.2757594186359884\n",
      "Epoch 72/100, Loss: 3.275769517492892\n",
      "Epoch 73/100, Loss: 3.2792418001811385\n",
      "Epoch 74/100, Loss: 3.2791789861630276\n",
      "Epoch 75/100, Loss: 3.276462578697245\n",
      "Epoch 76/100, Loss: 3.276370740394348\n",
      "Epoch 77/100, Loss: 3.282760795118458\n",
      "Epoch 78/100, Loss: 3.276573660404189\n",
      "Epoch 79/100, Loss: 3.2822885753503486\n",
      "Epoch 80/100, Loss: 3.280847500128024\n",
      "Epoch 81/100, Loss: 3.2838624343434883\n",
      "Epoch 82/100, Loss: 3.276134914172484\n",
      "Epoch 83/100, Loss: 3.282905842195442\n",
      "Epoch 84/100, Loss: 3.2854116348061226\n",
      "Epoch 85/100, Loss: 3.277488607460502\n",
      "Epoch 86/100, Loss: 3.278626895408386\n",
      "Epoch 87/100, Loss: 3.2796670977494866\n",
      "Epoch 88/100, Loss: 3.2744386845560216\n",
      "Epoch 89/100, Loss: 3.279936497780814\n",
      "Epoch 90/100, Loss: 3.2776581731432284\n",
      "Epoch 91/100, Loss: 3.276677083994534\n",
      "Epoch 92/100, Loss: 3.284977286609251\n",
      "Epoch 93/100, Loss: 3.277312185591472\n",
      "Epoch 94/100, Loss: 3.2797579082852995\n",
      "Epoch 95/100, Loss: 3.283897186647346\n",
      "Epoch 96/100, Loss: 3.278198822729115\n",
      "Epoch 97/100, Loss: 3.2726294915559193\n",
      "Epoch 98/100, Loss: 3.2839479836573733\n",
      "Epoch 99/100, Loss: 3.27889586244819\n",
      "Epoch 100/100, Loss: 3.278285004818109\n"
     ]
    }
   ],
   "source": [
    "for epoch in range(epochs):\n",
    "    epoch_loss = 0\n",
    "    for xi,yi in trainloader:\n",
    "        \n",
    "        yi = yi.float().view(-1,1)\n",
    "        output = model(xi)\n",
    "        loss = criterion(output,yi)\n",
    "        \n",
    "        optimizer.zero_grad()\n",
    "        loss.backward()\n",
    "        optimizer.step()\n",
    "        \n",
    "        epoch_loss += loss.item()\n",
    "    avg_loss = epoch_loss / len(trainloader)\n",
    "    losses.append(avg_loss)\n",
    "    print(f'Epoch {epoch + 1}/{epochs}, Loss: {avg_loss}')"
   ]
  },
  {
   "cell_type": "code",
   "execution_count": 32,
   "metadata": {},
   "outputs": [
    {
     "data": {
      "text/plain": [
       "Text(0, 0.5, 'Loss')"
      ]
     },
     "execution_count": 32,
     "metadata": {},
     "output_type": "execute_result"
    },
    {
     "data": {
      "image/png": "[encoded data removed]",
      "text/plain": [
       "<Figure size 640x480 with 1 Axes>"
      ]
     },
     "metadata": {},
     "output_type": "display_data"
    }
   ],
   "source": [
    "import matplotlib.pyplot as plt\n",
    "plt.plot(range(epochs),losses,label = 'loss')\n",
    "plt.xlabel('Epochs')\n",
    "plt.ylabel('Loss')"
   ]
  },
  {
   "cell_type": "code",
   "execution_count": 42,
   "metadata": {},
   "outputs": [],
   "source": [
    "PATH = './mnistmodel.pth'\n",
    "torch.save(model.state_dict(), PATH)"
   ]
  },
  {
   "cell_type": "code",
   "execution_count": 44,
   "metadata": {},
   "outputs": [
    {
     "name": "stdout",
     "output_type": "stream",
     "text": [
      "Test Loss: 3.167931084420271\n",
      "R2 Score: 0.6223676204681396\n"
     ]
    }
   ],
   "source": [
    "from sklearn.metrics import r2_score\n",
    "\n",
    "model.eval()\n",
    "test_loss = 0\n",
    "all_outputs = []\n",
    "all_targets = []\n",
    "with torch.no_grad(): \n",
    "    for xi, yi in testloader:\n",
    "        yi = yi.float().view(-1, 1)\n",
    "        output = model(xi)\n",
    "        loss = criterion(output, yi)\n",
    "        test_loss += loss.item()\n",
    "\n",
    "        all_outputs.append(output)\n",
    "        all_targets.append(yi)\n",
    "\n",
    "all_outputs = torch.cat(all_outputs).numpy()\n",
    "all_targets = torch.cat(all_targets).numpy()\n",
    "\n",
    "avg_test_loss = test_loss / len(testloader)\n",
    "print(f'Test Loss: {avg_test_loss}')\n",
    "print(f'R2 Score: {r2_score(all_targets,all_outputs)}')\n"
   ]
  },
  {
   "cell_type": "code",
   "execution_count": null,
   "metadata": {},
   "outputs": [],
   "source": []
  }
 ],
 "metadata": {
  "kernelspec": {
   "display_name": "ex5",
   "language": "python",
   "name": "python3"
  },
  "language_info": {
   "codemirror_mode": {
    "name": "ipython",
    "version": 3
   },
   "file_extension": ".py",
   "mimetype": "text/x-python",
   "name": "python",
   "nbconvert_exporter": "python",
   "pygments_lexer": "ipython3",
   "version": "3.9.19"
  }
 },
 "nbformat": 4,
 "nbformat_minor": 2
}
