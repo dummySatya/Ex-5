{
 "cells": [
  {
   "cell_type": "code",
   "execution_count": 1,
   "metadata": {},
   "outputs": [],
   "source": [
    "import torch\n",
    "import numpy as np\n",
    "import pandas as pd\n",
    "from sklearn.datasets import make_regression"
   ]
  },
  {
   "cell_type": "markdown",
   "metadata": {},
   "source": [
    "#### Pytorch AutoGrad Implementation of Multiple Linear Regression with multi output"
   ]
  },
  {
   "cell_type": "code",
   "execution_count": 2,
   "metadata": {},
   "outputs": [],
   "source": [
    "# 7 input 3 output\n",
    "X, y  = make_regression(n_samples=500,n_features=7,n_informative=7,n_targets=3,bias=25,noise=20,random_state=13)"
   ]
  },
  {
   "cell_type": "code",
   "execution_count": 3,
   "metadata": {},
   "outputs": [],
   "source": [
    "from sklearn.model_selection import train_test_split\n",
    "X_train, X_test, y_train, y_test = train_test_split(X, y,test_size=0.2,random_state=13)"
   ]
  },
  {
   "cell_type": "code",
   "execution_count": 4,
   "metadata": {},
   "outputs": [],
   "source": [
    "X_train = torch.from_numpy(X_train)\n",
    "y_train = torch.from_numpy(y_train)\n",
    "X_test = torch.from_numpy(X_test)\n",
    "y_test = torch.from_numpy(y_test)"
   ]
  },
  {
   "cell_type": "code",
   "execution_count": 5,
   "metadata": {},
   "outputs": [],
   "source": [
    "from sklearn.linear_model import LinearRegression\n",
    "from sklearn.metrics import r2_score\n",
    "lr = LinearRegression()\n",
    "lr.fit(X_train,y_train)\n",
    "y_predLR = lr.predict(X_test)"
   ]
  },
  {
   "cell_type": "code",
   "execution_count": 6,
   "metadata": {},
   "outputs": [
    {
     "data": {
      "text/plain": [
       "0.9816225295381956"
      ]
     },
     "execution_count": 6,
     "metadata": {},
     "output_type": "execute_result"
    }
   ],
   "source": [
    "r2_score(y_test,y_predLR)"
   ]
  },
  {
   "cell_type": "code",
   "execution_count": 7,
   "metadata": {},
   "outputs": [
    {
     "data": {
      "text/plain": [
       "array([[65.62386914, 50.98342248, 91.8704951 , 29.09756306, 59.38887619,\n",
       "         4.20446472, 54.8564364 ],\n",
       "       [ 8.6274954 , 61.89337578, 98.08826114, 14.85498841, 29.02945762,\n",
       "        31.42434961, 58.00218984],\n",
       "       [86.47409391, 52.53801642, 11.1883771 , 39.63969653, 19.08273696,\n",
       "        94.83906132, 49.41689617]])"
      ]
     },
     "execution_count": 7,
     "metadata": {},
     "output_type": "execute_result"
    }
   ],
   "source": [
    "lr.coef_"
   ]
  },
  {
   "cell_type": "code",
   "execution_count": 8,
   "metadata": {},
   "outputs": [
    {
     "data": {
      "text/plain": [
       "array([25.1496413 , 25.50028908, 24.6615854 ])"
      ]
     },
     "execution_count": 8,
     "metadata": {},
     "output_type": "execute_result"
    }
   ],
   "source": [
    "lr.intercept_"
   ]
  },
  {
   "cell_type": "code",
   "execution_count": 66,
   "metadata": {},
   "outputs": [],
   "source": [
    "class AutoGDClass:\n",
    "    def __init__(self, epochs, lr):\n",
    "        self.epochs = epochs\n",
    "        self.lr = lr\n",
    "        self.intercept = None\n",
    "        self.coeff = None\n",
    "    \n",
    "    def forward(self,X):\n",
    "        return (X @ self.coeff.T) + self.intercept\n",
    "    \n",
    "    def loss(self,y, y_hat):\n",
    "        return torch.mean((y - y_hat) ** 2)\n",
    "    \n",
    "    def fit(self, X_train, y_train):\n",
    "        features = X_train.shape[1]\n",
    "        target = y_train.shape[1]\n",
    "        self.coeff = torch.randn((target,features),dtype=float,requires_grad=True)\n",
    "        self.intercept = torch.randn((1,target),dtype=float,requires_grad=True)\n",
    "        for i in range(self.epochs):\n",
    "            y_hat = self.forward(X_train)\n",
    "            loss = self.loss(y_train,y_hat)\n",
    "            loss.backward()\n",
    "            grad_coeff = self.coeff.grad # derivative of loss func wrt coeff\n",
    "            grad_intercept = self.intercept.grad # derivatitve of loss func wrt intercept\n",
    "            with torch.no_grad():\n",
    "                # Note- self.coeff = self.coeff - self.lr * grad_coeff wont work\n",
    "                # Bcs it creates a new obj and backprop is gone\n",
    "\n",
    "                self.coeff -= self.lr * grad_coeff\n",
    "                self.intercept -= self.lr * grad_intercept\n",
    "            self.coeff.grad.zero_()\n",
    "            self.intercept.grad.zero_()\n",
    "                \n",
    "    \n",
    "    def predict(self,X_test):\n",
    "        y_pred = self.forward(X_test)\n",
    "        return y_pred"
   ]
  },
  {
   "cell_type": "code",
   "execution_count": 67,
   "metadata": {},
   "outputs": [],
   "source": [
    "mygd = AutoGDClass(100,0.1)\n",
    "mygd.fit(X_train, y_train)"
   ]
  },
  {
   "cell_type": "code",
   "execution_count": 68,
   "metadata": {},
   "outputs": [
    {
     "data": {
      "text/plain": [
       "0.9816655841796346"
      ]
     },
     "execution_count": 68,
     "metadata": {},
     "output_type": "execute_result"
    }
   ],
   "source": [
    "y_predGD = mygd.predict(X_test)\n",
    "r2_score(y_test,y_predGD.detach().numpy())"
   ]
  },
  {
   "cell_type": "code",
   "execution_count": 69,
   "metadata": {},
   "outputs": [
    {
     "data": {
      "text/plain": [
       "tensor([[65.6614, 50.9275, 91.7333, 29.0377, 59.1711,  4.3611, 54.7110],\n",
       "        [ 8.7005, 61.8045, 97.9581, 14.7955, 28.8873, 31.4903, 57.8922],\n",
       "        [86.3651, 52.4501, 11.2902, 39.5310, 19.2164, 94.6375, 49.2910]],\n",
       "       dtype=torch.float64, requires_grad=True)"
      ]
     },
     "execution_count": 69,
     "metadata": {},
     "output_type": "execute_result"
    }
   ],
   "source": [
    "mygd.coeff"
   ]
  },
  {
   "cell_type": "code",
   "execution_count": 70,
   "metadata": {},
   "outputs": [
    {
     "data": {
      "text/plain": [
       "tensor([[25.0120, 25.4000, 24.7050]], dtype=torch.float64, requires_grad=True)"
      ]
     },
     "execution_count": 70,
     "metadata": {},
     "output_type": "execute_result"
    }
   ],
   "source": [
    "mygd.intercept"
   ]
  },
  {
   "cell_type": "markdown",
   "metadata": {},
   "source": [
    "We can see that the metrics match"
   ]
  },
  {
   "cell_type": "code",
   "execution_count": null,
   "metadata": {},
   "outputs": [],
   "source": []
  }
 ],
 "metadata": {
  "kernelspec": {
   "display_name": "ex5",
   "language": "python",
   "name": "python3"
  },
  "language_info": {
   "codemirror_mode": {
    "name": "ipython",
    "version": 3
   },
   "file_extension": ".py",
   "mimetype": "text/x-python",
   "name": "python",
   "nbconvert_exporter": "python",
   "pygments_lexer": "ipython3",
   "version": "3.9.19"
  }
 },
 "nbformat": 4,
 "nbformat_minor": 2
}
