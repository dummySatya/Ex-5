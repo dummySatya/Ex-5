{
 "cells": [
  {
   "cell_type": "code",
   "execution_count": 17,
   "metadata": {},
   "outputs": [],
   "source": [
    "import torch\n",
    "import numpy as np\n",
    "import pandas as pd\n",
    "from sklearn.datasets import make_regression"
   ]
  },
  {
   "cell_type": "markdown",
   "metadata": {},
   "source": [
    "#### Multiple Linear Regression with multi output"
   ]
  },
  {
   "cell_type": "code",
   "execution_count": 190,
   "metadata": {},
   "outputs": [],
   "source": [
    "# 7 input 3 output\n",
    "X, y  = make_regression(n_samples=500,n_features=7,n_informative=7,n_targets=3,bias=25,noise=20,random_state=13)"
   ]
  },
  {
   "cell_type": "code",
   "execution_count": 191,
   "metadata": {},
   "outputs": [],
   "source": [
    "from sklearn.model_selection import train_test_split\n",
    "X_train, X_test, y_train, y_test = train_test_split(X, y,test_size=0.2,random_state=13)"
   ]
  },
  {
   "cell_type": "code",
   "execution_count": 192,
   "metadata": {},
   "outputs": [],
   "source": [
    "X_train = torch.from_numpy(X_train)\n",
    "y_train = torch.from_numpy(y_train)\n",
    "X_test = torch.from_numpy(X_test)\n",
    "y_test = torch.from_numpy(y_test)"
   ]
  },
  {
   "cell_type": "code",
   "execution_count": 193,
   "metadata": {},
   "outputs": [],
   "source": [
    "from sklearn.linear_model import LinearRegression\n",
    "from sklearn.metrics import r2_score\n",
    "lr = LinearRegression()\n",
    "lr.fit(X_train,y_train)\n",
    "y_predLR = lr.predict(X_test)"
   ]
  },
  {
   "cell_type": "code",
   "execution_count": 194,
   "metadata": {},
   "outputs": [
    {
     "data": {
      "text/plain": [
       "0.9816225295381956"
      ]
     },
     "execution_count": 194,
     "metadata": {},
     "output_type": "execute_result"
    }
   ],
   "source": [
    "r2_score(y_test,y_predLR)"
   ]
  },
  {
   "cell_type": "code",
   "execution_count": 195,
   "metadata": {},
   "outputs": [
    {
     "data": {
      "text/plain": [
       "array([[65.62386914, 50.98342248, 91.8704951 , 29.09756306, 59.38887619,\n",
       "         4.20446472, 54.8564364 ],\n",
       "       [ 8.6274954 , 61.89337578, 98.08826114, 14.85498841, 29.02945762,\n",
       "        31.42434961, 58.00218984],\n",
       "       [86.47409391, 52.53801642, 11.1883771 , 39.63969653, 19.08273696,\n",
       "        94.83906132, 49.41689617]])"
      ]
     },
     "execution_count": 195,
     "metadata": {},
     "output_type": "execute_result"
    }
   ],
   "source": [
    "lr.coef_"
   ]
  },
  {
   "cell_type": "code",
   "execution_count": 196,
   "metadata": {},
   "outputs": [
    {
     "data": {
      "text/plain": [
       "array([25.1496413 , 25.50028908, 24.6615854 ])"
      ]
     },
     "execution_count": 196,
     "metadata": {},
     "output_type": "execute_result"
    }
   ],
   "source": [
    "lr.intercept_"
   ]
  },
  {
   "cell_type": "code",
   "execution_count": 244,
   "metadata": {},
   "outputs": [],
   "source": [
    "class GDClass:\n",
    "    def __init__(self, epochs, lr):\n",
    "        self.epochs = epochs\n",
    "        self.lr = lr\n",
    "        self.intercept = None\n",
    "        self.coeff = None\n",
    "    \n",
    "    def fit(self, X_train, y_train):\n",
    "        samples = X_train.shape[0]\n",
    "        features = X_train.shape[1]\n",
    "        target = y_train.shape[1]\n",
    "        self.coeff = torch.randn((features,target),dtype=float)\n",
    "        self.intercept = torch.randn((1,target),dtype=float)\n",
    "        for i in range(self.epochs):\n",
    "            y_hat = (X_train @ self.coeff) + self.intercept\n",
    "            err = y_train - y_hat\n",
    "            grad_coeff = -2 * ( X_train.T @ err) / samples # derivative of loss func wrt coeff\n",
    "            grad_intercept = -2 * torch.mean(err,dim=0) # derivatitve of loss func wrt intercept\n",
    "            self.coeff = self.coeff - self.lr * grad_coeff\n",
    "            self.intercept = self.intercept - self.lr * grad_intercept\n",
    "    \n",
    "    def predict(self,X_test):\n",
    "        y_pred = (X_test @ self.coeff) + self.intercept\n",
    "        return y_pred"
   ]
  },
  {
   "cell_type": "code",
   "execution_count": 245,
   "metadata": {},
   "outputs": [],
   "source": [
    "mygd = GDClass(100,0.1)\n",
    "mygd.fit(X_train, y_train)"
   ]
  },
  {
   "cell_type": "code",
   "execution_count": 246,
   "metadata": {},
   "outputs": [
    {
     "data": {
      "text/plain": [
       "0.981622530310743"
      ]
     },
     "execution_count": 246,
     "metadata": {},
     "output_type": "execute_result"
    }
   ],
   "source": [
    "y_predGD = mygd.predict(X_test)\n",
    "r2_score(y_test,y_predGD)"
   ]
  },
  {
   "cell_type": "code",
   "execution_count": 247,
   "metadata": {},
   "outputs": [
    {
     "data": {
      "text/plain": [
       "tensor([[65.6239,  8.6275, 86.4741],\n",
       "        [50.9834, 61.8934, 52.5380],\n",
       "        [91.8705, 98.0883, 11.1884],\n",
       "        [29.0976, 14.8550, 39.6397],\n",
       "        [59.3889, 29.0295, 19.0827],\n",
       "        [ 4.2045, 31.4244, 94.8391],\n",
       "        [54.8564, 58.0022, 49.4169]], dtype=torch.float64)"
      ]
     },
     "execution_count": 247,
     "metadata": {},
     "output_type": "execute_result"
    }
   ],
   "source": [
    "mygd.coeff"
   ]
  },
  {
   "cell_type": "code",
   "execution_count": 248,
   "metadata": {},
   "outputs": [
    {
     "data": {
      "text/plain": [
       "tensor([[25.1496, 25.5003, 24.6616]], dtype=torch.float64)"
      ]
     },
     "execution_count": 248,
     "metadata": {},
     "output_type": "execute_result"
    }
   ],
   "source": [
    "mygd.intercept"
   ]
  },
  {
   "cell_type": "markdown",
   "metadata": {},
   "source": [
    "We can see that the metrics match"
   ]
  },
  {
   "cell_type": "code",
   "execution_count": null,
   "metadata": {},
   "outputs": [],
   "source": []
  }
 ],
 "metadata": {
  "kernelspec": {
   "display_name": "ex5",
   "language": "python",
   "name": "python3"
  },
  "language_info": {
   "codemirror_mode": {
    "name": "ipython",
    "version": 3
   },
   "file_extension": ".py",
   "mimetype": "text/x-python",
   "name": "python",
   "nbconvert_exporter": "python",
   "pygments_lexer": "ipython3",
   "version": "3.9.19"
  }
 },
 "nbformat": 4,
 "nbformat_minor": 2
}
