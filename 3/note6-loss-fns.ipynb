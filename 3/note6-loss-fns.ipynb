{
 "cells": [
  {
   "cell_type": "code",
   "execution_count": 1,
   "metadata": {},
   "outputs": [],
   "source": [
    "import torch\n",
    "import torch.nn as nn"
   ]
  },
  {
   "cell_type": "markdown",
   "metadata": {},
   "source": [
    "Mean Absolute Error (MAE) - L1 Loss"
   ]
  },
  {
   "cell_type": "code",
   "execution_count": 4,
   "metadata": {},
   "outputs": [
    {
     "name": "stdout",
     "output_type": "stream",
     "text": [
      "tensor([[ 1.4083, -0.5297, -1.5312, -0.2423, -0.4775],\n",
      "        [ 0.3862, -0.2879, -0.2333,  0.8464,  1.8486],\n",
      "        [ 0.3153,  0.2495, -0.7339, -0.0361, -1.4031]])\n",
      "tensor([[-0.1277,  0.4205, -1.9512,  2.3148,  0.6054],\n",
      "        [-0.4226,  1.2950, -1.6718,  1.3837,  1.5256],\n",
      "        [ 0.5567,  0.7559, -0.4835,  2.2668,  0.6667]])\n",
      "tensor(1.1072)\n"
     ]
    }
   ],
   "source": [
    "input  = torch.randn(3,5)\n",
    "target = torch.randn(3,5)\n",
    "\n",
    "mae_loss = nn.L1Loss()\n",
    "output = mae_loss(input, target)\n",
    "# output.backward()\n",
    "print(input)\n",
    "print(target)\n",
    "print(output)"
   ]
  },
  {
   "cell_type": "markdown",
   "metadata": {},
   "source": [
    "Mean Squared Error (MSE)"
   ]
  },
  {
   "cell_type": "code",
   "execution_count": 5,
   "metadata": {},
   "outputs": [
    {
     "name": "stdout",
     "output_type": "stream",
     "text": [
      "tensor([[ 1.4083, -0.5297, -1.5312, -0.2423, -0.4775],\n",
      "        [ 0.3862, -0.2879, -0.2333,  0.8464,  1.8486],\n",
      "        [ 0.3153,  0.2495, -0.7339, -0.0361, -1.4031]])\n",
      "tensor([[-0.1277,  0.4205, -1.9512,  2.3148,  0.6054],\n",
      "        [-0.4226,  1.2950, -1.6718,  1.3837,  1.5256],\n",
      "        [ 0.5567,  0.7559, -0.4835,  2.2668,  0.6667]])\n",
      "tensor(1.7824)\n"
     ]
    }
   ],
   "source": [
    "mse_loss = nn.MSELoss()\n",
    "output = mse_loss(input,target)\n",
    "print(input)\n",
    "print(target)\n",
    "print(output)"
   ]
  },
  {
   "cell_type": "markdown",
   "metadata": {},
   "source": [
    "During training of a model, the loss value shoud keep on decreasing for the model to keep getting better"
   ]
  },
  {
   "cell_type": "markdown",
   "metadata": {},
   "source": []
  }
 ],
 "metadata": {
  "kernelspec": {
   "display_name": "ex5",
   "language": "python",
   "name": "python3"
  },
  "language_info": {
   "codemirror_mode": {
    "name": "ipython",
    "version": 3
   },
   "file_extension": ".py",
   "mimetype": "text/x-python",
   "name": "python",
   "nbconvert_exporter": "python",
   "pygments_lexer": "ipython3",
   "version": "3.9.19"
  }
 },
 "nbformat": 4,
 "nbformat_minor": 2
}
