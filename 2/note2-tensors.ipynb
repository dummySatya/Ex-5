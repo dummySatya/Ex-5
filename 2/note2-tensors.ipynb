{
 "cells": [
  {
   "cell_type": "code",
   "execution_count": 1,
   "metadata": {},
   "outputs": [],
   "source": [
    "import torch"
   ]
  },
  {
   "cell_type": "markdown",
   "metadata": {},
   "source": [
    "### Creating Tensors"
   ]
  },
  {
   "cell_type": "code",
   "execution_count": 7,
   "metadata": {},
   "outputs": [
    {
     "name": "stdout",
     "output_type": "stream",
     "text": [
      "<class 'torch.Tensor'>\n",
      "tensor([[4.9970e-35, 0.0000e+00, 0.0000e+00, 0.0000e+00],\n",
      "        [       nan, 5.0778e+31, 7.3909e+22, 4.5120e+27],\n",
      "        [7.0062e+22, 4.5144e+27, 1.7438e+19, 1.8888e+31]])\n"
     ]
    }
   ],
   "source": [
    "# Creating empty tensor\n",
    "x = torch.empty(3,4)\n",
    "print(type(x))\n",
    "print(x)\n",
    "# Here we can see that its filled with garbage values like C"
   ]
  },
  {
   "cell_type": "code",
   "execution_count": 11,
   "metadata": {},
   "outputs": [
    {
     "data": {
      "text/plain": [
       "tensor([[0., 0., 0., 0.],\n",
       "        [0., 0., 0., 0.],\n",
       "        [0., 0., 0., 0.]])"
      ]
     },
     "execution_count": 11,
     "metadata": {},
     "output_type": "execute_result"
    }
   ],
   "source": [
    "# Usually we initialize it with zeros or ones\n",
    "zeros = torch.zeros(3,4)\n",
    "zeros"
   ]
  },
  {
   "cell_type": "code",
   "execution_count": 13,
   "metadata": {},
   "outputs": [
    {
     "data": {
      "text/plain": [
       "tensor([[1., 1., 1., 1.],\n",
       "        [1., 1., 1., 1.],\n",
       "        [1., 1., 1., 1.]])"
      ]
     },
     "execution_count": 13,
     "metadata": {},
     "output_type": "execute_result"
    }
   ],
   "source": [
    "ones = torch.ones(3,4)\n",
    "ones"
   ]
  },
  {
   "cell_type": "code",
   "execution_count": 16,
   "metadata": {},
   "outputs": [
    {
     "data": {
      "text/plain": [
       "tensor([[0.8866, 0.2793, 0.9174, 0.1613],\n",
       "        [0.3339, 0.3471, 0.9122, 0.5155],\n",
       "        [0.7929, 0.1628, 0.1221, 0.5188]])"
      ]
     },
     "execution_count": 16,
     "metadata": {},
     "output_type": "execute_result"
    }
   ],
   "source": [
    "# Generated random floats btw 0 and 1\n",
    "random_btw_01 = torch.rand(3,4)\n",
    "random_btw_01"
   ]
  },
  {
   "cell_type": "code",
   "execution_count": 21,
   "metadata": {},
   "outputs": [
    {
     "data": {
      "text/plain": [
       "tensor([[0.3126, 0.3791, 0.3087, 0.0736],\n",
       "        [0.4216, 0.0691, 0.2332, 0.4047],\n",
       "        [0.2162, 0.9927, 0.4128, 0.5938]])"
      ]
     },
     "execution_count": 21,
     "metadata": {},
     "output_type": "execute_result"
    }
   ],
   "source": [
    "# Now usually the random initialization is used by model weights as a starting point in their training\n",
    "# In research, to have some assurance of reproducibility, we use the random generators seed\n",
    "torch.manual_seed(1729)\n",
    "random1 = torch.rand(3,4)\n",
    "random1\n",
    "# No matter how many times random1 is initialized, it stays the same"
   ]
  },
  {
   "cell_type": "code",
   "execution_count": 24,
   "metadata": {},
   "outputs": [
    {
     "data": {
      "text/plain": [
       "tensor([[0.6146, 0.5999, 0.5013, 0.9397],\n",
       "        [0.8656, 0.5207, 0.6865, 0.3614],\n",
       "        [0.6493, 0.2633, 0.4762, 0.0548]])"
      ]
     },
     "execution_count": 24,
     "metadata": {},
     "output_type": "execute_result"
    }
   ],
   "source": [
    "random2 = torch.rand(3,4)\n",
    "random2 \n",
    "# the seed resets to produce a diff set"
   ]
  },
  {
   "cell_type": "code",
   "execution_count": 25,
   "metadata": {},
   "outputs": [
    {
     "data": {
      "text/plain": [
       "tensor([[0.3126, 0.3791, 0.3087, 0.0736],\n",
       "        [0.4216, 0.0691, 0.2332, 0.4047],\n",
       "        [0.2162, 0.9927, 0.4128, 0.5938]])"
      ]
     },
     "execution_count": 25,
     "metadata": {},
     "output_type": "execute_result"
    }
   ],
   "source": [
    "torch.manual_seed(1729)\n",
    "random3 = torch.rand(3,4)\n",
    "random3\n",
    "# Now this produces same as random1"
   ]
  },
  {
   "cell_type": "code",
   "execution_count": 30,
   "metadata": {},
   "outputs": [
    {
     "name": "stdout",
     "output_type": "stream",
     "text": [
      "torch.Size([2, 2, 3])\n",
      "tensor([[[4.5918e-35, 0.0000e+00, 0.0000e+00],\n",
      "         [0.0000e+00, 4.2160e-01, 6.9054e-02]],\n",
      "\n",
      "        [[2.3322e-01, 4.0466e-01, 2.1624e-01],\n",
      "         [9.9269e-01, 4.1275e-01, 5.9382e-01]]])\n"
     ]
    }
   ],
   "source": [
    "# Tensor shapes\n",
    "# torch.*_like() methods to create tensor\n",
    "\n",
    "x = torch.empty(2,2,3)\n",
    "print(x.shape)\n",
    "print(x)"
   ]
  },
  {
   "cell_type": "code",
   "execution_count": 31,
   "metadata": {},
   "outputs": [
    {
     "name": "stdout",
     "output_type": "stream",
     "text": [
      "torch.Size([2, 2, 3])\n",
      "tensor([[[4.5925e-35, 0.0000e+00, 0.0000e+00],\n",
      "         [0.0000e+00,        nan, 6.9054e-02]],\n",
      "\n",
      "        [[1.7753e+28, 4.4339e+27, 1.7975e+19],\n",
      "         [6.9481e+22, 5.5757e-02, 1.8728e+31]]])\n"
     ]
    }
   ],
   "source": [
    "empty_like_x = torch.empty_like(x)\n",
    "print(empty_like_x.shape)\n",
    "print(empty_like_x)"
   ]
  },
  {
   "cell_type": "code",
   "execution_count": 32,
   "metadata": {},
   "outputs": [
    {
     "name": "stdout",
     "output_type": "stream",
     "text": [
      "torch.Size([2, 2, 3])\n",
      "tensor([[[0., 0., 0.],\n",
      "         [0., 0., 0.]],\n",
      "\n",
      "        [[0., 0., 0.],\n",
      "         [0., 0., 0.]]])\n"
     ]
    }
   ],
   "source": [
    "zeros_like_x = torch.zeros_like(x)\n",
    "print(zeros_like_x.shape)\n",
    "print(zeros_like_x)"
   ]
  },
  {
   "cell_type": "code",
   "execution_count": 34,
   "metadata": {},
   "outputs": [
    {
     "data": {
      "text/plain": [
       "tensor([1, 2, 3, 4, 5])"
      ]
     },
     "execution_count": 34,
     "metadata": {},
     "output_type": "execute_result"
    }
   ],
   "source": [
    "# torch.tensor() method to create tensor\n",
    "# similar to np.array()\n",
    "# It creates a copy of data\n",
    "\n",
    "x = torch.tensor([1,2,3,4,5])\n",
    "x"
   ]
  },
  {
   "cell_type": "code",
   "execution_count": 38,
   "metadata": {},
   "outputs": [
    {
     "data": {
      "text/plain": [
       "tensor([[1, 1, 1],\n",
       "        [1, 1, 1]], dtype=torch.int16)"
      ]
     },
     "execution_count": 38,
     "metadata": {},
     "output_type": "execute_result"
    }
   ],
   "source": [
    "# Create tensors with datatypes\n",
    "a = torch.ones((2,3),dtype=torch.int16)\n",
    "a"
   ]
  },
  {
   "cell_type": "code",
   "execution_count": 48,
   "metadata": {},
   "outputs": [
    {
     "data": {
      "text/plain": [
       "tensor([[ 2.4081,  5.3389, 13.8556],\n",
       "        [ 9.2452,  1.6418, 13.6600]], dtype=torch.float64)"
      ]
     },
     "execution_count": 48,
     "metadata": {},
     "output_type": "execute_result"
    }
   ],
   "source": [
    "b = torch.rand((2,3),dtype=torch.float64) * 20\n",
    "b"
   ]
  },
  {
   "cell_type": "code",
   "execution_count": 49,
   "metadata": {},
   "outputs": [
    {
     "data": {
      "text/plain": [
       "tensor([[ 2,  5, 13],\n",
       "        [ 9,  1, 13]], dtype=torch.int32)"
      ]
     },
     "execution_count": 49,
     "metadata": {},
     "output_type": "execute_result"
    }
   ],
   "source": [
    "c = b.to(torch.int32)\n",
    "c"
   ]
  },
  {
   "cell_type": "markdown",
   "metadata": {},
   "source": [
    "### Math and Logic with Tensors"
   ]
  },
  {
   "cell_type": "code",
   "execution_count": 50,
   "metadata": {},
   "outputs": [
    {
     "data": {
      "text/plain": [
       "tensor([[1., 1., 1.],\n",
       "        [1., 1., 1.]])"
      ]
     },
     "execution_count": 50,
     "metadata": {},
     "output_type": "execute_result"
    }
   ],
   "source": [
    "torch.zeros(2,3) + 1"
   ]
  },
  {
   "cell_type": "code",
   "execution_count": 51,
   "metadata": {},
   "outputs": [
    {
     "data": {
      "text/plain": [
       "tensor([[2., 2., 2., 2.],\n",
       "        [2., 2., 2., 2.],\n",
       "        [2., 2., 2., 2.]])"
      ]
     },
     "execution_count": 51,
     "metadata": {},
     "output_type": "execute_result"
    }
   ],
   "source": [
    "torch.ones(3,4) * 2"
   ]
  },
  {
   "cell_type": "code",
   "execution_count": 53,
   "metadata": {},
   "outputs": [
    {
     "data": {
      "text/plain": [
       "tensor([[4., 4., 4., 4.],\n",
       "        [4., 4., 4., 4.],\n",
       "        [4., 4., 4., 4.]])"
      ]
     },
     "execution_count": 53,
     "metadata": {},
     "output_type": "execute_result"
    }
   ],
   "source": [
    "(torch.ones(3,4) * 2 ) ** 2 "
   ]
  },
  {
   "cell_type": "code",
   "execution_count": 55,
   "metadata": {},
   "outputs": [
    {
     "ename": "RuntimeError",
     "evalue": "The size of tensor a (3) must match the size of tensor b (2) at non-singleton dimension 1",
     "output_type": "error",
     "traceback": [
      "\u001b[0;31m---------------------------------------------------------------------------\u001b[0m",
      "\u001b[0;31mRuntimeError\u001b[0m                              Traceback (most recent call last)",
      "Cell \u001b[0;32mIn[55], line 4\u001b[0m\n\u001b[1;32m      1\u001b[0m a \u001b[38;5;241m=\u001b[39m torch\u001b[38;5;241m.\u001b[39mrand(\u001b[38;5;241m2\u001b[39m,\u001b[38;5;241m3\u001b[39m)\n\u001b[1;32m      2\u001b[0m b \u001b[38;5;241m=\u001b[39m torch\u001b[38;5;241m.\u001b[39mrand(\u001b[38;5;241m3\u001b[39m,\u001b[38;5;241m2\u001b[39m) \n\u001b[0;32m----> 4\u001b[0m \u001b[43ma\u001b[49m\u001b[43m \u001b[49m\u001b[38;5;241;43m*\u001b[39;49m\u001b[43m \u001b[49m\u001b[43mb\u001b[49m\n",
      "\u001b[0;31mRuntimeError\u001b[0m: The size of tensor a (3) must match the size of tensor b (2) at non-singleton dimension 1"
     ]
    }
   ],
   "source": [
    "a = torch.rand(2,3)\n",
    "b = torch.rand(3,2) \n",
    "\n",
    "a * b"
   ]
  },
  {
   "cell_type": "code",
   "execution_count": 59,
   "metadata": {},
   "outputs": [
    {
     "data": {
      "text/plain": [
       "tensor([[[0.9804, 0.9441],\n",
       "         [0.4921, 0.6659],\n",
       "         [0.0310, 0.3406]],\n",
       "\n",
       "        [[0.9804, 0.9441],\n",
       "         [0.4921, 0.6659],\n",
       "         [0.0310, 0.3406]],\n",
       "\n",
       "        [[0.9804, 0.9441],\n",
       "         [0.4921, 0.6659],\n",
       "         [0.0310, 0.3406]],\n",
       "\n",
       "        [[0.9804, 0.9441],\n",
       "         [0.4921, 0.6659],\n",
       "         [0.0310, 0.3406]]])"
      ]
     },
     "execution_count": 59,
     "metadata": {},
     "output_type": "execute_result"
    }
   ],
   "source": [
    "# Tensor Broadcasting\n",
    "# Usage: multiplying a tensor of learning weights by a batch of input tensors, applying the operation to each instance in the batch separately, and returning a tensor of identical shape - just like our (2, 4) * (1, 4) example above returned a tensor of shape (2, 4).\n",
    "\n",
    "a = torch.ones(4, 3, 2)\n",
    "b = a * torch.rand(3,2)\n",
    "\n",
    "b # going from backwards, dimensions are same"
   ]
  },
  {
   "cell_type": "code",
   "execution_count": 61,
   "metadata": {},
   "outputs": [
    {
     "data": {
      "text/plain": [
       "tensor([[[0.9356, 0.9356],\n",
       "         [0.1712, 0.1712],\n",
       "         [0.6581, 0.6581]],\n",
       "\n",
       "        [[0.9356, 0.9356],\n",
       "         [0.1712, 0.1712],\n",
       "         [0.6581, 0.6581]],\n",
       "\n",
       "        [[0.9356, 0.9356],\n",
       "         [0.1712, 0.1712],\n",
       "         [0.6581, 0.6581]],\n",
       "\n",
       "        [[0.9356, 0.9356],\n",
       "         [0.1712, 0.1712],\n",
       "         [0.6581, 0.6581]]])"
      ]
     },
     "execution_count": 61,
     "metadata": {},
     "output_type": "execute_result"
    }
   ],
   "source": [
    "c  = a * torch.rand(3, 1)\n",
    "c # going from back, either match or can be 1"
   ]
  },
  {
   "cell_type": "code",
   "execution_count": 62,
   "metadata": {},
   "outputs": [
    {
     "data": {
      "text/plain": [
       "tensor([[[0.4811, 0.5881],\n",
       "         [0.4811, 0.5881],\n",
       "         [0.4811, 0.5881]],\n",
       "\n",
       "        [[0.4811, 0.5881],\n",
       "         [0.4811, 0.5881],\n",
       "         [0.4811, 0.5881]],\n",
       "\n",
       "        [[0.4811, 0.5881],\n",
       "         [0.4811, 0.5881],\n",
       "         [0.4811, 0.5881]],\n",
       "\n",
       "        [[0.4811, 0.5881],\n",
       "         [0.4811, 0.5881],\n",
       "         [0.4811, 0.5881]]])"
      ]
     },
     "execution_count": 62,
     "metadata": {},
     "output_type": "execute_result"
    }
   ],
   "source": [
    "d = a * torch.rand(1,2)\n",
    "d"
   ]
  },
  {
   "cell_type": "code",
   "execution_count": 63,
   "metadata": {},
   "outputs": [],
   "source": [
    "a = torch.rand(2,4) * 2 -1"
   ]
  },
  {
   "cell_type": "code",
   "execution_count": 64,
   "metadata": {},
   "outputs": [
    {
     "name": "stdout",
     "output_type": "stream",
     "text": [
      "tensor([[0.0969, 0.9348, 0.2148, 0.6321],\n",
      "        [0.8502, 0.1227, 0.9957, 0.2422]])\n",
      "tensor([[1., -0., -0., -0.],\n",
      "        [1., -0., -0., 1.]])\n",
      "tensor([[ 0., -1., -1., -1.],\n",
      "        [ 0., -1., -1.,  0.]])\n",
      "tensor([[ 0.0969, -0.5000, -0.2148, -0.5000],\n",
      "        [ 0.5000, -0.1227, -0.5000,  0.2422]])\n"
     ]
    }
   ],
   "source": [
    "# Common functions\n",
    "print(torch.abs(a))\n",
    "print(torch.ceil(a))\n",
    "print(torch.floor(a))\n",
    "print(torch.clamp(a,-0.5, 0.5))"
   ]
  },
  {
   "cell_type": "code",
   "execution_count": 65,
   "metadata": {},
   "outputs": [
    {
     "name": "stdout",
     "output_type": "stream",
     "text": [
      "tensor([0.0000, 0.7071, 1.0000, 0.7071])\n",
      "tensor([ 1.0000e+00,  7.0711e-01, -4.3711e-08, -7.0711e-01])\n",
      "tensor([0.0000, 0.7854, 1.5708, 0.7854])\n"
     ]
    }
   ],
   "source": [
    "# Trignometic funcs\n",
    "import math\n",
    "\n",
    "angles = torch.tensor([0, math.pi / 4, math.pi / 2, 3 *math.pi /4])\n",
    "sines = torch.sin(angles)\n",
    "cosines = torch.cos(angles)\n",
    "inversesin  = torch.asin(sines)\n",
    "\n",
    "print(sines)\n",
    "print(cosines)\n",
    "print(inversesin)"
   ]
  },
  {
   "cell_type": "code",
   "execution_count": null,
   "metadata": {},
   "outputs": [],
   "source": []
  }
 ],
 "metadata": {
  "kernelspec": {
   "display_name": "ex5",
   "language": "python",
   "name": "python3"
  },
  "language_info": {
   "codemirror_mode": {
    "name": "ipython",
    "version": 3
   },
   "file_extension": ".py",
   "mimetype": "text/x-python",
   "name": "python",
   "nbconvert_exporter": "python",
   "pygments_lexer": "ipython3",
   "version": "3.9.19"
  }
 },
 "nbformat": 4,
 "nbformat_minor": 2
}
